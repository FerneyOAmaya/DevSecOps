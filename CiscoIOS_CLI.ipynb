{
  "nbformat": 4,
  "nbformat_minor": 0,
  "metadata": {
    "colab": {
      "provenance": [],
      "toc_visible": true,
      "authorship_tag": "ABX9TyNIU9Z3227uYDmPrnAq27s2"
    },
    "kernelspec": {
      "name": "python3",
      "display_name": "Python 3"
    },
    "language_info": {
      "name": "python"
    }
  },
  "cells": [
    {
      "cell_type": "markdown",
      "source": [
        "# Cisco IOS CLI\n",
        "\n",
        "En este cuaderno se presentan los principales comandos del IOS CLI (Command Line Interface) de los equipos de Cisco.\n",
        "\n",
        "Realizado por:\n",
        "\n",
        "Ferney O. Amaya Fernández <BR>\n",
        "ferney.amaya@gmail.com\n"
      ],
      "metadata": {
        "id": "H2sXAKUnbzD7"
      }
    },
    {
      "cell_type": "markdown",
      "source": [
        "#1.Conexión a consola\n",
        "\n",
        "Para conectarnos desde una terminal de Linux a la consola del equipo empleamos la aplicación putty con el siguiente comando:\n",
        "\n",
        ">```putty /dev/ttyUSB0 -serial -sercfg 9600,8,n,1,N```"
      ],
      "metadata": {
        "id": "wU9NoTKgcOGt"
      }
    },
    {
      "cell_type": "markdown",
      "source": [
        "#2.Modo usuario, privilegiado y global\n",
        "\n",
        "Para pasar del modo usuario (>) al modo privilegiado (#):\n",
        "> ```>enable```\n",
        "\n",
        "Para pasar del modo privilegiado (#) al modo global (config):\n",
        "\n",
        "> ```\t#configure terminal```\n"
      ],
      "metadata": {
        "id": "4aNMfZeEcrNd"
      }
    },
    {
      "cell_type": "markdown",
      "source": [
        "#3.Observar, guardar y eliminar la configuración"
      ],
      "metadata": {
        "id": "1mF9BEVpdfAN"
      }
    },
    {
      "cell_type": "markdown",
      "source": [
        "##Running-config y startup-config\n",
        "Los dispositivos de red almacenan la configuración en dos memorias:\n",
        "- running-config: configuración activa o en ejecucion que se almacena en RAM.\n",
        "- startup-config: configuración almacenada en la memoria no volátil NVRAM. Esta configuración se carga al iniciar el dispositivo de red."
      ],
      "metadata": {
        "id": "fApWZ-tksVMT"
      }
    },
    {
      "cell_type": "markdown",
      "source": [
        "##Visualizar la configuración\n",
        "Para visualizar la configuración activa:\n",
        "> ```#show running-config```<BR>\n",
        "\n",
        "Para observar la configuración almacenada en la NVRAM:\n",
        ">```#show startup-config```<BR>"
      ],
      "metadata": {
        "id": "6TbBZrJysbQp"
      }
    },
    {
      "cell_type": "markdown",
      "source": [
        "##Guardar la configuración\n",
        "Para guardar la configuración en la NVRAM:\n",
        ">```#copy running-config startup-config```<BR>"
      ],
      "metadata": {
        "id": "NCbe8evmseNS"
      }
    },
    {
      "cell_type": "markdown",
      "source": [
        "##Eliminar la configuración\n",
        "Inicialmente se elimina la configuración de la NVRAM en el dispositivo:\n",
        ">```#erase startup-config```<BR>\n",
        "\n",
        "Para eliminar la base de datos VLAN en el Switch:\n",
        ">```#delete vlan.dat```<BR>\n",
        "\n",
        "Luego de cualquiera de los dos comandos anteriores debe reiniciarse el dispositivo:\n",
        ">```#reload```<BR>\n",
        "\n",
        "Cuando pregunte si desea entrar al diálogo de configuración, escriba N y presione Intro."
      ],
      "metadata": {
        "id": "6n47h95mspVZ"
      }
    },
    {
      "cell_type": "markdown",
      "source": [
        "#4.Asignar nombre de host (hostname)\n",
        "\n",
        "Asignar nombre a host: Por ejemplo, asignar el nombre Redes:\n",
        ">```(config)#hostname Redes```"
      ],
      "metadata": {
        "id": "rjPPzzVPfrQe"
      }
    },
    {
      "cell_type": "markdown",
      "source": [
        "#5.Asignar clave del modo privilegiado\n",
        "\n",
        "Asignar clave de modo privilegiado: Asignar la clave “class”:\n",
        ">```(config)#enable secret class```"
      ],
      "metadata": {
        "id": "BWzRRHOiul_N"
      }
    },
    {
      "cell_type": "markdown",
      "source": [
        "#6.Asignar una IP a una interface\n",
        "\n",
        "Por ejemplo, asignar la IP 10.10.10.1/8 a la interface FastEthernet 0/0:\n",
        ">```(config)#interface FastEthernet 0/0```<BR>\n",
        ">```(config-if)#ip address 10.10.10.1 255.0.0.0```<BR>\n",
        ">```(config-if)#no shutdown```<BR>\n",
        ">```(config-if)#exit```<BR>\n",
        "\n",
        "Para observar el detalle de las interfaces:\n",
        ">```#show interfaces```<BR>\n",
        "\n",
        "Para observar resumen de configuración de las interfaces:\n",
        ">```#show ip interfaces brief```<BR>"
      ],
      "metadata": {
        "id": "qcRoVppUf9sc"
      }
    },
    {
      "cell_type": "markdown",
      "source": [
        "#7.Configurar enrutamiento"
      ],
      "metadata": {
        "id": "jqmL-JYggbxG"
      }
    },
    {
      "cell_type": "markdown",
      "source": [
        "###Ruta estática\n",
        "Hay dos formas de configurarla. Por ejemplo, se tiene la red de destino es la 15.15.0.0/16 y se alcanza a través de la interface de salida serial 0/0/0 con IP 10.0.0.1.\n",
        "\n",
        "La alternativa 1 es:\n",
        ">```(config)#ip route 15.15.0.0 255.255.0.0 10.0.0.1```<BR>\n",
        "\n",
        "La alternativa 2 es:\n",
        ">```(config)#ip route 15.15.0.0 255.255.0.0 serial 0/0/0```<BR>"
      ],
      "metadata": {
        "id": "MyWP2DrBs5AC"
      }
    },
    {
      "cell_type": "markdown",
      "source": [
        "###Protocolo RIP versión 2\n",
        "\n",
        "Por ejemplo, se quiere advertir de las redes 10.0.0.0/8 y 20.20.0.0/16 a las que están conectadas al enrutador:\n",
        "\n",
        ">```(config)#router rip```<BR>\n",
        ">```(config-router)#version 2```<BR>\n",
        ">```(config-router)#network 10.0.0.0```<BR>\n",
        ">```(config-router)#network 20.20.0.0```<BR>\n",
        "\n",
        "Para no enviar actualizaciones RIP por una interface, por ejemplo la fastEthernet 0/0\n",
        ">```(config-router)#passive-interface fastEthernet 0/0```<BR>\n",
        "\n",
        "Para iniciar y detener los mensajes de depuración RIP:\n",
        ">```#debug ip rip events```<BR>\n",
        ">```#undebug all```<BR>"
      ],
      "metadata": {
        "id": "qNffhKfTs9zz"
      }
    },
    {
      "cell_type": "markdown",
      "source": [
        "###Protocolo OSPF\n",
        "\n",
        "Por ejemplo, se quiere advertir de las redes 10.0.0.0/8 y 20.20.0.0/16, pertenecientes al área 2 (número entre 0 y 4294967295), para el Process ID 1 (número entre 1 y 65535). En OSPF se emplea el wildcard (máscara invertida) en vez de la máscara.\n",
        "\n",
        ">```(config)#router ospf 1```<BR>\n",
        ">```(config-router)#network 0.255.255.255 area 1```<BR>\n",
        ">```(config-router)#network 20.20.0.0 0.0.255.255 area 1```<BR>\n",
        "\n",
        "Para iniciar y detener los mensajes de depuración RIP:\n",
        ">```#debug ip ospf events```<BR>\n",
        ">```#undebug all```<BR>"
      ],
      "metadata": {
        "id": "bZN51Nn8tCWK"
      }
    },
    {
      "cell_type": "markdown",
      "source": [
        "### Verificar el enrutamiento\n",
        "\n",
        "Puede observarse la tabla de enrutamiento:\n",
        ">```#show ip route```<BR>\n",
        "\n",
        "Puede observarse la tabla de enrutamiento de un protocolo particular:\n",
        ">```#show ip route rip```<BR>\n",
        ">```#show ip route ospf```<BR>\n",
        "\n",
        "Puede observarse el enrutamiento en una interface particular:\n",
        ">```#show ip ospf interface seial 0/0/0```<BR>"
      ],
      "metadata": {
        "id": "640udvLutE5E"
      }
    },
    {
      "cell_type": "markdown",
      "source": [
        "#8.Configurar VLANs"
      ],
      "metadata": {
        "id": "3yQ7ciK4i8qY"
      }
    },
    {
      "cell_type": "markdown",
      "source": [
        "##Crear una VLAN en el switch\n",
        "El rango normal es de 1 a 1005, estando reservadas las VLAN: 1, 1002 - 1005.Por ejemplo, para crear la VLAN 10 y asignarle al nombre Admin:\n",
        "\n",
        ">```(config)# vlan 10```<BR>\n",
        ">```(config-vlan)#name Admin```<BR>\n",
        ">```(config-vlan)#exit```<BR>"
      ],
      "metadata": {
        "id": "Jsb8g-vWtLvy"
      }
    },
    {
      "cell_type": "markdown",
      "source": [
        "##Configurar los puertos de acceso en el switch\n",
        "Por ejemplo, asignar los puertos 2 a 15 a la VLAN 10:\n",
        "\n",
        ">```(config)#interface range fa0/2-15```<BR>\n",
        ">```(config-if-range)#switchport mode access```<BR>\n",
        ">```(config-if-range)#switchport access vlan 10```<BR>\n",
        ">```(config-if-range)#exit```"
      ],
      "metadata": {
        "id": "JZgRmCxwtPxY"
      }
    },
    {
      "cell_type": "markdown",
      "source": [
        "##Configurar un puerto troncal en el switch\n",
        "Por ejemplo, configurar el puerto 24 como troncal, VLAN nativa la 400 y permitir las VLANs 10,20,30:\n",
        "\n",
        ">```(config)#interface fa 0/24```<BR>\n",
        ">```(config-if)#switchport mode trunk```<BR>\n",
        ">```(config-if)#switchport trunk native vlan 400```<BR>\n",
        ">```(config-if)#switchport trunk allowed vlan 10,20,30```<BR>\n",
        ">```(config-if)#exit```"
      ],
      "metadata": {
        "id": "joiVKrmItXOy"
      }
    },
    {
      "cell_type": "markdown",
      "source": [
        "##Configurar VLANs en una interface del Router (Router on a stick)\n",
        "Por ejemplo, si a la interface FastEthernet 0/0 le asignamos la VLAN 10 con la IP 200.10.0.1/16. Inicialmente en la interface del enrutador:\n",
        ">```(config)#interface fa 0/0```<BR>\n",
        ">```(config-if)#no ip address```<BR>\n",
        ">```(config-if)#no shutdown```<BR>\n",
        ">```(config-if)#exit```<BR>\n",
        "\n",
        "Luego se configuran las sub-interfaces:\n",
        ">```(config)#interface fa 0/0.10```<BR>\n",
        ">```(config-subif)#encapsulation dot1q 10```<BR>\n",
        ">```(config-subif)#ip address 200.10.0.1 255.255.0.0```<BR>\n",
        ">```(config-subif)#exit```<BR>"
      ],
      "metadata": {
        "id": "IzJdiBrKtaoS"
      }
    },
    {
      "cell_type": "markdown",
      "source": [
        "##Verificar VLANs en el Switch\n",
        "Para verificar las VLANs y asignaciones de puertos:\n",
        ">```#show vlan```<BR>\n",
        "\n",
        "Para verificar las troncales:\n",
        ">```#show interface trunk```<BR>"
      ],
      "metadata": {
        "id": "vR7KUonXteDy"
      }
    },
    {
      "cell_type": "markdown",
      "source": [
        "#9.Servidor DHCP"
      ],
      "metadata": {
        "id": "hEVtz2W4jyfX"
      }
    },
    {
      "cell_type": "markdown",
      "source": [
        "##Establecer el rango de IPs excluido\n",
        "El rango de IPs excluido son las IPs que el servidor no entregará. Por ejemplo, si el rango excluido es desde la 200.10.10.1 hasta la 200.10.10.5:\n",
        "\n",
        ">```(config)#ip dhcp excluded 200.10.10.1 200.10.10.5```<BR>"
      ],
      "metadata": {
        "id": "HbrAu17StjeB"
      }
    },
    {
      "cell_type": "markdown",
      "source": [
        "##Configurar el pool de direcciones IP\n",
        "Por ejemplo, si la red para entregar IPs es la 200.10.10.0/ 24 y la puerta de enlace e 200.10.10.1 y al pool lo llamamos Admon:\n",
        ">```(config)#ip dhcp pool Admon```<BR>\n",
        ">```(dhcp-config)#network 200.10.10.0 255.255.255.0```<BR>\n",
        ">```(dhcp-config)#default-router 200.10.10.1```<BR>\n",
        "\n",
        "Si adicionalmente se quiere configurar el servidor DNS, por ejemplo, si tiene la IP 200.10.10.5:\n",
        ">```(dhcp-config)#dns-server 200.10.10.5```<BR>"
      ],
      "metadata": {
        "id": "3JwrztVWtoz7"
      }
    },
    {
      "cell_type": "markdown",
      "source": [
        "##Verificar\n",
        "\n",
        "Información DHCP\n",
        ">```#show ip dhcp pool```<BR>\n",
        "\n",
        "Información direcciones arrendadas\n",
        ">```#show ip dhcp binding```<BR>\n"
      ],
      "metadata": {
        "id": "azfRvpb5MvOA"
      }
    },
    {
      "cell_type": "markdown",
      "source": [
        "#10.IP-Helper, DHCP\n",
        "Esta opción se usa cuando el servidor DHCP se encuentra en una red diferente a donde se encuentran los dispositivos que solicitarán direcciones IP. En este caso, el enrutador recibe las solicitudes por la interface de los dispositivos solicitantes y las envía al servidor DHCP. Por ejemplo, si los solicitantes están conectados a la interface fa 0/0 y la IP del servidor DHCP, que se encuentra en otra red es la 30.30.30.5, la configuración se realiza dentro de la interface del enrutador:\n",
        ">```(config)#interface fa 0/0```<BR>\n",
        ">```(config-if)#ip helper-address 30.30.30.5```<BR>"
      ],
      "metadata": {
        "id": "LWTyvQpMkejP"
      }
    },
    {
      "cell_type": "markdown",
      "source": [
        "#11.Servidor NAT\n",
        "\n",
        "Si por ejemplo, para una red se tiene:\n",
        "- Red del pool NAT: 200.20.20.0/24\n",
        "- Red local: 10.0.0.0/8\n",
        "- IP NAT estático: IP local 10.10.10.100, IP global 200.20.20.2\n",
        "- IP inicial del pool NAT: 200.20.20.3\n",
        "- IP final del pool NAT: 200.20.20.8"
      ],
      "metadata": {
        "id": "osIc1_WZksad"
      }
    },
    {
      "cell_type": "markdown",
      "source": [
        "##NAT Estático\n",
        "Para definir el NAT estático:\n",
        ">```(config)#ip nat inside source static 10.10.10.100 200.20.20.2```<BR>"
      ],
      "metadata": {
        "id": "R-Jw8WRet0XR"
      }
    },
    {
      "cell_type": "markdown",
      "source": [
        "##NAT Dinámico\n",
        "Si el nombre del pool es NAT. Para realizar la configuración:\n",
        ">```(config)#ip nat pool NAT 200.20.20.3 200.20.20.8 netmask 255.255.255.0```<BR>\n",
        ">```(config)#access-list 1 permit 10.0.0.0 255.0.0.0```<BR>\n",
        ">```(config)#ip nat inside source list 1 pool NAT```<BR>"
      ],
      "metadata": {
        "id": "gTzoqm2at4nJ"
      }
    },
    {
      "cell_type": "markdown",
      "source": [
        "##PAT\n",
        "Si el nombre del pool es PAT. Para realizar la configuración:\n",
        "\n",
        ">```(config)#ip nat pool PAT 200.20.20.3 200.20.20.8 netmask 255.255.255.0```<BR>\n",
        ">```(config)#access-list 1 permit 10.0.0.0 255.0.0.0```<BR>\n",
        ">```(config)#ip nat inside source list 1 pool PAT overload```<BR>"
      ],
      "metadata": {
        "id": "pda5K81_t-cq"
      }
    },
    {
      "cell_type": "markdown",
      "source": [
        "##Definición de interfaces\n",
        "Este paso debe realizarse para todas las variantes de NAT: estático, dinámico o por sobrecarga y consiste en indicarle al enrutador, cuáles son las interfaces donde están conectadas las redes interna y externa.\n",
        "\n",
        "Por ejemplo, si la red interna está conectada a la interface fastEthernet 0/0 y la externa a la serial 0/0, la configuración es\n",
        "\n",
        ">```(config)#interface fastEthernet 0/0```<BR>\n",
        ">```(config-if)#ip nat inside```<BR>\n",
        ">```(config-if)#exit```<BR>\n",
        ">```(config)#interface serial 0/0```<BR>\n",
        ">```(config-if)#ip nat outside```<BR>\n",
        ">```(config-if)#exit```<BR>"
      ],
      "metadata": {
        "id": "Iz4N4vhguCvi"
      }
    },
    {
      "cell_type": "markdown",
      "source": [
        "##Verificar NAT\n",
        "Puede verificarse la configuración con los siguientes comandos:\n",
        ">```#show ip nat translations```<BR>\n",
        ">```#show ip nat statistics```<BR>"
      ],
      "metadata": {
        "id": "uVD8TdQfuF4i"
      }
    },
    {
      "cell_type": "markdown",
      "source": [
        "##Asignar IP a interface Loopback\n",
        "Asignar una IP de la red global a una interface loopback, en este caso se asignará la primera IP de la red pública:\n",
        ">```(config)#interface loopback 0``` <BR>\n",
        ">```(config-if)#ip address 200.20.20.1 255.255.255.0``` <BR>"
      ],
      "metadata": {
        "id": "mt0yep7_uIUa"
      }
    },
    {
      "cell_type": "markdown",
      "source": [
        "##RIP con NAT\n",
        "RIP debe anunciar todas las redes conectadas al enrutador. Sin embargo, en el caso de NAT, debe anunciar la red pública no las redes privadas:\n",
        ">```(config)#router rip```<BR>\n",
        ">```(config-router)#network 200.20.20.0```<BR>"
      ],
      "metadata": {
        "id": "qs5ds-AxuK2i"
      }
    },
    {
      "cell_type": "markdown",
      "source": [
        "#12.Telnet\n",
        "Aunque no se recomienda el acceso a través de Telnet, se explica como hacerlo. Se recomienda acceder empleando SSH en vez de Telnet.\n",
        "\n",
        "Si el password es Cisco123!:\n",
        ">```(config)#line vty 0 15``` <BR>\n",
        ">```(config-line)#password Cisco123!``` <BR>\n",
        ">```(config-line)#login``` <BR>\n",
        ">```(config-line)#exit``` <BR>"
      ],
      "metadata": {
        "id": "9iZ0Y7u3yGEt"
      }
    },
    {
      "cell_type": "markdown",
      "source": [
        "#13.SSH\n",
        "\n",
        "Si se realiza en un switche, previamente debe asignarse la IP de gestión.\n",
        "\n",
        "Debe previamente asignarse nombre de host (hostname) y clave para ingresar al modo privilegiado."
      ],
      "metadata": {
        "id": "4_fx5aEKvxxu"
      }
    },
    {
      "cell_type": "markdown",
      "source": [
        "##Asignar nombre de dominio y crear usuario\n",
        "Por ejemplo, si el dominio es redes.edu.co, el usuario es Cisco y el pasword Cisco123!:\n",
        ">```(config)#ip domain-name redes.edu.co``` <BR>\n",
        ">```(config)#username Cisco secret Cisco123!``` <BR>"
      ],
      "metadata": {
        "id": "WplqNcbEuVxi"
      }
    },
    {
      "cell_type": "markdown",
      "source": [
        "##Generar llaves RSA y definir versión de SSH\n",
        "Debe selecconarse un número de bits de 1024 o 2048\n",
        ">```(config)#crypto key generate rsa``` <BR>\n",
        ">```(config)#ip ssh version 2``` <BR>"
      ],
      "metadata": {
        "id": "vGZ8KT0XuYfj"
      }
    },
    {
      "cell_type": "markdown",
      "source": [
        "##Configuración de línea vty para habilitar SSH:\n",
        ">```(config)#line vty 0 15``` <BR>\n",
        ">```(config-line)# transport input ssh``` <BR>\n",
        ">```(config-line)#login local``` <BR>"
      ],
      "metadata": {
        "id": "lK1Hstopubc6"
      }
    },
    {
      "cell_type": "markdown",
      "source": [
        "#14.ACLs"
      ],
      "metadata": {
        "id": "Auj7OngM_tZJ"
      }
    },
    {
      "cell_type": "markdown",
      "source": [
        "##ACLs estándar\n",
        "Permiten bloquear el tráfico proveniente de una fuente. Emplea los números del 0 al 99 pueden usarse:\n",
        "\n",
        "Definir la ACL:\n",
        ">```(config)#access-list number {permit|deny} {source [wildcard]}```<BR>\n",
        "\n",
        "Aplicar la ACL a la interface:\n",
        ">```(config-if)#ip access-goup acl-number {in|out}```<BR>\n",
        "\n",
        "Ejemplo:\n",
        ">```(config)#access-list 2 deny 172.16.1.1```<BR>\n",
        ">```(config)#access-list 2 permit 172.16.1.0 0.0.0.255```<BR>\n",
        ">```(config)#interface fa 0/0```<BR>\n",
        ">```(config-if)#ip access-group 2 in```<BR>"
      ],
      "metadata": {
        "id": "MGVCg1Q9uiMx"
      }
    },
    {
      "cell_type": "markdown",
      "source": [
        "##ACLs extendida\n",
        "Permiten especificar más parámetros. Emplea los números del 100 al 199. Puede emplearse:\n",
        "- Operaciones lógicas: equal (eq), not equal (neq), greater than (gt), and less than (lt).\n",
        "- Protocolos: ip, tcp, udp, icmp.\n",
        "\n",
        "Definir la ACL:\n",
        ">```(config)#access-list number {permit|deny} protocol source wildcard destination wildcard {condicion}```<BR>\n",
        "\n",
        "Aplicar la ACL a la interface:\n",
        ">```(config-if)#ip access-group acl-number {in|out}```<BR>\n",
        "\n",
        "Ejemplo:\n",
        ">```(config)#access-list 114 permit tcp 172.16.6.0 0.0.0.255 any eq telnet```<BR>\n",
        ">```(config-if)#ip access-group 114 in```<BR>\n",
        "\n",
        "###Verificar ACLs\n",
        "Emplear los comandos:\n",
        "\n",
        ">```#show access-lists```<BR>\n",
        ">```#show ip interface```<BR>"
      ],
      "metadata": {
        "id": "dJF0t73lulpb"
      }
    }
  ]
}