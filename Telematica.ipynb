{
  "nbformat": 4,
  "nbformat_minor": 0,
  "metadata": {
    "colab": {
      "provenance": [],
      "toc_visible": true
    },
    "kernelspec": {
      "name": "python3",
      "display_name": "Python 3"
    },
    "language_info": {
      "name": "python"
    }
  },
  "cells": [
    {
      "cell_type": "markdown",
      "source": [
        "# Telemática\n",
        "\n",
        "En este cuaderno se presenta una guía de configuración de algunos servicios en máquinas Ubuntu en la plataforma AWS.\n",
        "\n",
        "Realizado por:\n",
        "\n",
        "Ferney O. Amaya Fernández <BR>\n",
        "ferney.amaya@gmail.com"
      ],
      "metadata": {
        "id": "Yc9ZmsBOubzD"
      }
    },
    {
      "cell_type": "markdown",
      "source": [
        "#1.Regiones, Zonas de Disponibilidad y VPCs\n",
        "\n",
        "Amazon cuente con regiones en todo el mundo, por ejemplo:\n",
        "- us-east-1 (Norte de Virginia, EE. UU.) con 6 zonas de disponibilidad\n",
        "- eu-west-1 (Irlanda)\n",
        "- ap-southeast-1 (Singapur)\n",
        "\n",
        "En cada región se tienen varias Zonas de Disponibilidad (*Availability Zones, AZ*). Una AZ es un grupo de centros de datos con alimentación, refrigeración y seguridad física independientes.\n",
        "\n",
        "[Mayor información aquí.](https://aws.amazon.com/es/about-aws/global-infrastructure/)\n",
        "\n",
        "En una VPC (*Virtual Private Cloud*) pueden lanzarse varios recursos de AWS en una red virtual lógica aislada que se asemeja a una red tradicional que conforma un centro de datos.\n",
        "\n",
        "[Mayor información aquí.](https://docs.aws.amazon.com/es_es/vpc/latest/userguide/what-is-amazon-vpc.html)"
      ],
      "metadata": {
        "id": "RtU1K1Q0uvFT"
      }
    },
    {
      "cell_type": "markdown",
      "source": [
        "#2 Paso a paso para crear una VPC manual\n",
        "\n",
        "La VPC y sus componentes pueden crearse en forma automática y en forma manual. Aquí se presenta una breve guía para crearlas en forma manual.\n",
        "\n",
        "Se creará una VPC con 1 subred pública y 1 subred privada. Se empleará el bloque CIDR IPv4 10.2.0.0/16 para crear subredes 10.2.0.0/18."
      ],
      "metadata": {
        "id": "oUMVKYVJwrbq"
      }
    },
    {
      "cell_type": "markdown",
      "source": [
        "##2.1 **Paso 1:** Crear la VPC\n",
        "\n",
        "La configuración a seleccionar es la siguiente:\n",
        "- Resources to create: VPC only\n",
        "- IPv4 CIDR manual input:\n",
        "- IPv6 CIDR block: Amazon-provided IPv6 CIDR block\n",
        "- Tenancy: Default (sin HW dedicado, más barato)"
      ],
      "metadata": {
        "id": "z2VQaf47wwFI"
      }
    },
    {
      "cell_type": "markdown",
      "source": [
        "##2.2 **Paso 2:** Crear las subredes\n",
        "\n",
        "Las subredes públicas y privadas se crean igual. La diferencia estará más adelante en la tabla de enrutamiento al conectar o no con la puerta de enlace.\n",
        "\n",
        "- Seleccione la VPC\n",
        "- Identificar y planear el direccionamiento IPv4 e IPv6\n",
        "- Asigne un nombre que indique si será pública o privada\n",
        "- Seleccione AZ\n",
        "- Seleccione IPv4 e IPv6 subnet CIDR block"
      ],
      "metadata": {
        "id": "QhBkwaDxxrqa"
      }
    },
    {
      "cell_type": "markdown",
      "source": [
        "##2.3 **Paso 3:** Crear el GW (Internet gateways)\n",
        "\n",
        "El GW (*Gateway*) o puerta de enlace:\n",
        "- Crear el GW\n",
        "- Editarlo para conectarlo con la VPC:\n",
        " * En Actions selecionar Atach to VPC\n",
        " * Seleccionar la VPC"
      ],
      "metadata": {
        "id": "xtnfPpFDwzVp"
      }
    },
    {
      "cell_type": "markdown",
      "source": [
        "##2.4 **Paso 4:** Crear las Tablas de Enrutamiento\n",
        "\n",
        "Es suficiente una tabla para las subredes públicas con el mismo GW y otra para las privadas.\n",
        "- Seleccione la VPC y cree la tabla de enrutamiento\n",
        "- Edite la tabla de enrutamiento para asociarla a la subred:\n",
        "  - Seleccione la pestaña Subnet Associations\n",
        "  - En la sección Subnet without explicit associations editar para selecionar la subred\n",
        "\n"
      ],
      "metadata": {
        "id": "EUU1KRYUykzK"
      }
    },
    {
      "cell_type": "markdown",
      "source": [
        "##2.5 **Paso 5:** Ajustar las rutas en las Tablas de Enrutamiento\n",
        "\n",
        "La tabla de enrutamiento para la subred pública debe ajustarse para que quede de la siguiente forma (el siguiente es un ejemplo, los datos deben ajustarse dependiendo de las direcciones IP):\n",
        "\n",
        "|Destino|Destino|\n",
        "|--|--|\n",
        "|::/0|igw-0d7ec8f0c00a668ba|\n",
        "|2600:1f10:4d0a:5700::/56|local|\n",
        "|0.0.0.0/0|igw-0d7ec8f0c00a668ba|\n",
        "|10.2.0.0/16|local|\n",
        "\n",
        "\n",
        "\n",
        "\n"
      ],
      "metadata": {
        "id": "iuw6aWjEy7vq"
      }
    },
    {
      "cell_type": "markdown",
      "source": [
        "#3.Enlace SSH entre cliente y servidor\n",
        "\n",
        "En esta sección se creará el usuario *tele* en el Servidor y se habilitará para realizar una conexión remota ssh desde el Cliente.\n",
        "\n",
        "Necesitará abrir dos consolas. Puede ser util cambiar el prompt para que refleje el nombre Cliente o Servidor a la vez que se visualice la IP. Por ejemplo, si el prompt actual es:\n",
        "```\n",
        "ip-172-32-42-156\n",
        "```\n",
        "Debe cambiarse el nombre del host en el archivo:\n",
        "```\n",
        "/etc/hostname\n",
        "```\n",
        "colocando para el servidor el nombre:\n",
        "```\n",
        "Server-172-32-42-156\n",
        "```\n",
        "Para que el cambio se refleje en el prompt, deben ejecutarse los comandos:\n",
        "```\n",
        "sudo hostname Server-172-32-42-156\n",
        "exec bash\n",
        "```"
      ],
      "metadata": {
        "id": "8S7GGZaM0lFR"
      }
    },
    {
      "cell_type": "markdown",
      "source": [
        "##3.1 Revisión e instalación\n",
        "\n",
        "Verificar cliente:\n",
        "```\n",
        "ssh –V\n",
        "```\n",
        "\n",
        "Verificar servidor:\n",
        "```\n",
        "sudo systemctl status ssh\n",
        "```"
      ],
      "metadata": {
        "id": "bFP8MAqG017Q"
      }
    },
    {
      "cell_type": "markdown",
      "source": [
        "##3.2 En el servidor crear usuario\n",
        "\n",
        "Crear el usuario *tele* con contraseña *tele*."
      ],
      "metadata": {
        "id": "9R0RhpGi07Jp"
      }
    },
    {
      "cell_type": "markdown",
      "source": [
        "##3.3 En el servidor ajustar la configuración\n",
        "\n",
        "En el archivo de configuración del servidor:\n",
        "\n",
        "```\n",
        "/etc/ssh/sshd_config\n",
        "```\n",
        "\n",
        "Quitarle el comentario y asignar el siguiente valor a las opciones:\n",
        "- Port 22\n",
        "- PasswordAuthentication yes\n",
        "- PubkeyAuthentication yes\n",
        "- KbdInteractiveAuthentication yes\n",
        "\n",
        "La opción *KbdInteractiveAuthentication* debe estar en *yes* para permitir interacción remota desde teclado.\n",
        "Para la autenticación en el servidor ssh hay dos opciones:\n",
        "- Si *PubkeyAuthentication* está en *yes* la autenticación será por clave pública.\n",
        "- Si *PubkeyAuthentication* está en *no* y *PasswordAuthentication* en *yes* la autenticación será por password."
      ],
      "metadata": {
        "id": "I9qfTtDW1xSp"
      }
    },
    {
      "cell_type": "markdown",
      "source": [
        "##3.4 En el cliente generar y verificar el par de llaves\n",
        "\n",
        "Para generar el par de llaves se sugiere:\n",
        "```\n",
        "ssh-keygen -t rsa -b 4096\n",
        "```\n",
        "Las llaves se crean en las siguientes ubicaciones:\n",
        "- ~/.ssh/id_rsa\t: Clave privada, no compartir.\n",
        "- ~/.ssh/id_rsa.pub\t: Clave pública, puede compartirse\n",
        "Observe las llaves."
      ],
      "metadata": {
        "id": "wLwD2GqR1cYY"
      }
    },
    {
      "cell_type": "markdown",
      "source": [
        "##3.5 Desde el cliente copiar la clave pública al servidor\n",
        "\n",
        "El comando para enviar desde el cliente la clave pública al servidor es el siguiente:\n",
        "```\n",
        " ssh-copy-id username@IP_servidor\n",
        "```\n",
        "\n",
        "Si el comando anterior no funciona, la clave debe copiarse manualmente. Siga los siguientes pasos:\n",
        "\n",
        "- Paso 1: En el Servidor, ingrese a la sesión del usuario tele.\n",
        "- Paso 2: En el directorio *home* crear el directorio *.ssh* con los siguientes privilegios:\n",
        "```\n",
        " drwx------      .ssh\n",
        "```\n",
        "- Paso 3: En el directorio *.ssh* crear el archivo *authorized_keys* con los siguientes privilegios:\n",
        "```\n",
        " -rw-------      authorized_keys\n",
        "```\n",
        "- Paso 4: Copie manualmente la llave pública creada en el Cliente, al archivo *authorized_keys* en el servidor.\n"
      ],
      "metadata": {
        "id": "srrjqBaj4dtn"
      }
    },
    {
      "cell_type": "markdown",
      "source": [
        "#4.UFW\n",
        "La configuración del servicio UFW (*Uncomplicated FireWall*) es la siguiente:\n",
        "\n",
        "##4.1. Configurar las políticas por defecto\n",
        "```\n",
        "sudo ufw default deny incoming​\n",
        "sudo ufw default allow outgoing​\n",
        "```\n",
        "\n",
        "##4.2. Habilitar servicios\n",
        "\n",
        "El mapeo de servicios a números de puertos se encuentra en el archivo:\n",
        "```\n",
        "/etc/services\n",
        "```\n",
        "Para agregar un servicio puede hacerse por el nombre de servicio o por número de puerto:\n",
        "```\n",
        "sudo ufw allow servicio​\n",
        "sudo ufw allow numero_puerto​\n",
        "```\n",
        "\n",
        "##4.3. Controlar UFW​\n",
        "Para controlar el servicio UFW se emplean los siguientes comandos:\n",
        "```\n",
        "sudo ufw enable​\n",
        "sudo ufw status verbose​\n",
        "sudo ufw disable​\n",
        "sudo ufw status numbered\n",
        "```"
      ],
      "metadata": {
        "id": "wodGVjz4Mwxt"
      }
    },
    {
      "cell_type": "markdown",
      "source": [
        "#5.DHCP\n",
        "\n",
        "El archivo de configuración del servicio:\n",
        "```\n",
        "/etc/dhcp/dhcpd.conf\n",
        "```\n",
        "Un ejemplo de configuración es la siguiente:\n",
        "```\n",
        "default-lease-time 600;\n",
        "max-lease-time 7200;\n",
        "subnet 192.168.1.0 netmask 255.255.255.0 {\n",
        "  range 192.168.1.150 192.168.1.200;\n",
        "  option routers 192.168.1.254;\n",
        "  option domain-name-servers 192.168.1.1;\n",
        "  option domain-name \"mydomain.example\";\n",
        "```\n"
      ],
      "metadata": {
        "id": "tHX-pD7xCTl9"
      }
    },
    {
      "cell_type": "markdown",
      "source": [
        "#6.DNS\n",
        "\n",
        "Se realizará un ejemplo de configuración con la siguiente información:\n",
        "- Nombre de dominio: telematica.com\n",
        "- Dirección de red: 10.100.1.0/24\n",
        "\n",
        "Con esta información, los datos para el servicio son:\n",
        "-\tzona directa: **telematica.com**\n",
        "- zona inversa: **1.100.10.in-addr.arpa**\n",
        "Se seleccionan los nombres:\n",
        "- Nombre de archivo directo: **a_directo**\n",
        "- Nombre de archivo inverso: **a_inverso**\n",
        "\n",
        "**Paso 1:** Instalar bind9 en el servidor:\n",
        "\n",
        "**Paso 2:** Crear y verificar las zonas:\n",
        "1. cree una copia del siguiente archivo:\n",
        "```\n",
        "  /etc/bind/named.conf.local\n",
        "```\n",
        "\n",
        "2. Edite el archivo:\n",
        "```\n",
        "  zone \"telematica.com\" {\n",
        "    type master;\n",
        "    file \"a_directo\"\n",
        "  ; };\n",
        "\n",
        "  zone \"1.100.10.in-addr.arpa\" {\n",
        "    type master;\n",
        "    file \"a_inverso\"\n",
        "  ; };\n",
        "```\n",
        "3. Verifique la edición del archivo\n",
        "```\n",
        "\tnamed-checkconf\n",
        "```\n",
        "\n",
        "**Paso 3:** Crear y verificar el archivo del mapa directo:\n",
        "1. Cree el archivo del mapa directo:\n",
        "```\n",
        "  /var/cache/bind/a_directo\n",
        "```\n",
        "2. Edite\n",
        "```\n",
        "$ORIGIN telematica.com.\n",
        "$TTL 86400 ; 1 dia\n",
        "@ IN SOA servidor postmaster (\n",
        "120219 ; serie\n",
        "6H ; refrescamiento (6 horas)\n",
        "1H ; reintentos (1 hora)\n",
        "2W ; expira (2 semanas)\n",
        "3H ; mínimo cache (3 horas)\n",
        ")\n",
        "      IN NS server\n",
        "server IN A 10.100.1.10\n",
        "client IN A 10.100.1.20\n",
        "```\n",
        "3. Verifique la edición del archivo\n",
        "La sintaxis es:\n",
        "```  \n",
        "  named-checkzone zona_directa ruta/a_directo\n",
        "```\n",
        "\n",
        "**Paso 4:** Crear y verificar el archivo del mapa inverso:\n",
        "1. Cree el archivo del mapa directo:\n",
        "```\n",
        "  /var/cache/bind/a_inverso\n",
        "```\n",
        "2. Edite\n",
        "```\n",
        "$ORIGIN 1.100.10.in-addr.arpa.\n",
        "$TTL 86400 ; 1 dia\n",
        "@ IN SOA servidor postmaster (\n",
        "120219 ; serie\n",
        "6H ; refresco (6 horas)\n",
        "1H ; reintentos (1 hora)\n",
        "2W ; expira (2 semanas)\n",
        "3H ; mínimo (3 horas)\n",
        ")\n",
        "      IN NS server.telematica.com.\n",
        "10 IN PTR server.telematica.com.\n",
        "20 IN PTR client.telematica.com.\n",
        "```\n",
        "3. Verifique la edición del archivo\n",
        "```  \n",
        "  named-checzone zona_inversa ruta/a_inverso\n",
        "```\n",
        "\n",
        "**Paso 5:** Permitir la resolución externa\n",
        "\n",
        "Para resolver nombres de dominios externos debe editarse el archivo:\n",
        "```\n",
        "  /etc/bind/named.conf.options\n",
        "```\n",
        "Verificar:\n",
        "```\n",
        "options {\n",
        "    directory \"/var/cache/bind\";\n",
        "\n",
        "    recursion yes;\n",
        "    allow-recursion { any; };   #resolución externa\n",
        "\n",
        "    forwarders {\n",
        "        8.8.8.8;   # DNS de Google\n",
        "        8.8.4.4;   # DNS de Google\n",
        "    };\n",
        "```\n",
        "\n",
        "**Paso 6:** Reiniciar el servidor:\n",
        "```\n",
        " \tsudo systemctl restart bind9\n",
        "```\n",
        "\n",
        "Para observar el estado del servidor:\n",
        "```\n",
        " \tsudo systemctl status bind9\n",
        "```\n"
      ],
      "metadata": {
        "id": "nbfoDdSRDQFI"
      }
    }
  ]
}