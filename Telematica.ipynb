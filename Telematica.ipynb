{
  "nbformat": 4,
  "nbformat_minor": 0,
  "metadata": {
    "colab": {
      "provenance": [],
      "toc_visible": true
    },
    "kernelspec": {
      "name": "python3",
      "display_name": "Python 3"
    },
    "language_info": {
      "name": "python"
    }
  },
  "cells": [
    {
      "cell_type": "markdown",
      "source": [
        "# Telemática\n",
        "\n",
        "En este cuaderno se presenta una guía de configuración de algunos servicios en máquinas Ubuntu en la plataforma AWS.\n",
        "\n",
        "Realizado por:\n",
        "\n",
        "Ferney O. Amaya Fernández <BR>\n",
        "ferney.amaya@gmail.com"
      ],
      "metadata": {
        "id": "Yc9ZmsBOubzD"
      }
    },
    {
      "cell_type": "markdown",
      "source": [
        "#1.Regiones, Zonas de Disponibilidad y VPCs\n",
        "\n",
        "Amazon cuente con regiones en todo el mundo, por ejemplo:\n",
        "- us-east-1 (Norte de Virginia, EE. UU.) con 6 zonas de disponibilidad\n",
        "- eu-west-1 (Irlanda)\n",
        "- ap-southeast-1 (Singapur)\n",
        "\n",
        "En cada región se tienen varias Zonas de Disponibilidad (*Availability Zones, AZ*). Una AZ es un grupo de centros de datos con alimentación, refrigeración y seguridad física independientes.\n",
        "\n",
        "[Mayor información aquí.](https://aws.amazon.com/es/about-aws/global-infrastructure/)\n",
        "\n",
        "En una VPC (*Virtual Private Cloud*) pueden lanzarse varios recursos de AWS en una red virtual lógica aislada que se asemeja a una red tradicional que conforma un centro de datos.\n",
        "\n",
        "[Mayor información aquí.](https://docs.aws.amazon.com/es_es/vpc/latest/userguide/what-is-amazon-vpc.html)"
      ],
      "metadata": {
        "id": "RtU1K1Q0uvFT"
      }
    },
    {
      "cell_type": "markdown",
      "source": [
        "#2 Paso a paso para crear una VPC manual\n",
        "\n",
        "La VPC y sus componentes pueden crearse en forma automática y en forma manual. Aquí se presenta una breve guía para crearlas en forma manual.\n",
        "\n",
        "Se creará una VPC con 1 subred pública y 1 subred privada. Se empleará el bloque CIDR IPv4 10.2.0.0/16 para crear subredes 10.2.0.0/18."
      ],
      "metadata": {
        "id": "oUMVKYVJwrbq"
      }
    },
    {
      "cell_type": "markdown",
      "source": [
        "##1.1 **Paso 1:** Crear la VPC\n",
        "\n",
        "La configuración a seleccionar es la siguiente:\n",
        "- Resources to create: VPC only\n",
        "- IPv4 CIDR manual input:\n",
        "- IPv6 CIDR block: Amazon-provided IPv6 CIDR block\n",
        "- Tenancy: Default (sin HW dedicado, más barato)"
      ],
      "metadata": {
        "id": "z2VQaf47wwFI"
      }
    },
    {
      "cell_type": "markdown",
      "source": [
        "##1.2 **Paso 2:** Crear las subredes\n",
        "\n",
        "Las subredes públicas y privadas se crean igual. La diferencia estará más adelante en la tabla de enrutamiento al conectar o no con la puerta de enlace.\n",
        "\n",
        "- Seleccione la VPC\n",
        "- Identificar y planear el direccionamiento IPv4 e IPv6\n",
        "- Asigne un nombre que indique si será pública o privada\n",
        "- Seleccione AZ\n",
        "- Seleccione IPv4 e IPv6 subnet CIDR block"
      ],
      "metadata": {
        "id": "QhBkwaDxxrqa"
      }
    },
    {
      "cell_type": "markdown",
      "source": [
        "##1.3 **Paso 3:** Crear el GW (Internet gateways)\n",
        "\n",
        "El GW (*Gateway*) o puerta de enlace:\n",
        "- Crear el GW\n",
        "- Editarlo para conectarlo con la VPC:\n",
        " * En Actions selecionar Atach to VPC\n",
        " * Seleccionar la VPC"
      ],
      "metadata": {
        "id": "xtnfPpFDwzVp"
      }
    },
    {
      "cell_type": "markdown",
      "source": [
        "##1.4 **Paso 4:** Crear las Tablas de Enrutamiento\n",
        "\n",
        "Es suficiente una tabla para las subredes públicas con el mismo GW y otra para las privadas.\n",
        "- Seleccione la VPC y cree la tabla de enrutamiento\n",
        "- Edite la tabla de enrutamiento para asociarla a la subred:\n",
        "  - Seleccione la pestaña Subnet Associations\n",
        "  - En la sección Subnet without explicit associations editar para selecionar la subred\n",
        "\n"
      ],
      "metadata": {
        "id": "EUU1KRYUykzK"
      }
    },
    {
      "cell_type": "markdown",
      "source": [
        "##1.5 **Paso 5:** Ajustar las rutas en las Tablas de Enrutamiento\n",
        "\n",
        "La tabla de enrutamiento para la subred pública debe ajustarse para que quede de la siguiente forma (el siguiente es un ejemplo, los datos deben ajustarse dependiendo de las direcciones IP):\n",
        "\n",
        "|Destino|Destino|\n",
        "|--|--|\n",
        "|::/0|igw-0d7ec8f0c00a668ba|\n",
        "|2600:1f10:4d0a:5700::/56|local|\n",
        "|0.0.0.0/0|igw-0d7ec8f0c00a668ba|\n",
        "|10.2.0.0/16|local|\n",
        "\n",
        "\n",
        "\n",
        "\n"
      ],
      "metadata": {
        "id": "iuw6aWjEy7vq"
      }
    },
    {
      "cell_type": "markdown",
      "source": [
        "#2.Enlace SSH entre cliente y servidor"
      ],
      "metadata": {
        "id": "8S7GGZaM0lFR"
      }
    },
    {
      "cell_type": "markdown",
      "source": [
        "##2.1 Revisión e instalación\n",
        "\n",
        "Verificar cliente:\n",
        "```\n",
        "ssh –V\n",
        "```\n",
        "\n",
        "Verificar servidor:\n",
        "```\n",
        "sudo systemctl status ssh\n",
        "```"
      ],
      "metadata": {
        "id": "bFP8MAqG017Q"
      }
    },
    {
      "cell_type": "markdown",
      "source": [
        "##2.2 Usuario en el servidor\n",
        "\n",
        "Verificar en el servidor que el usuario existe. A modo de prueba, se sugiere crear el usuario *tele* con contraseña *tele*."
      ],
      "metadata": {
        "id": "9R0RhpGi07Jp"
      }
    },
    {
      "cell_type": "markdown",
      "source": [
        "##2.3 En el servidor ajustar la configuración\n",
        "\n",
        "En el archivo de configuración del servidor:\n",
        "\n",
        "```\n",
        "/etc/ssh/sshd_config\n",
        "```\n",
        "\n",
        "Quitarle el comentario a las siguientes opciones:\n",
        "- Port 22\n",
        "- PasswordAuthentication yes\n",
        "- PubkeyAuthentication yes\n"
      ],
      "metadata": {
        "id": "I9qfTtDW1xSp"
      }
    },
    {
      "cell_type": "markdown",
      "source": [
        "##2.4 En el cliente generar y verificar el par de llaves\n",
        "\n",
        "Para generar el par de llaves se sugiere:\n",
        "```\n",
        "ssh-keygen -t rsa -b 4096\n",
        "```\n",
        "Las llaves se crean en las siguientes ubicaciones:\n",
        "- ~/.ssh/id_rsa\t: Clave privada, no compartir.\n",
        "- ~/.ssh/id_rsa.pub\t: Clave pública, puede compartirse\n",
        "Observe las llaves."
      ],
      "metadata": {
        "id": "wLwD2GqR1cYY"
      }
    },
    {
      "cell_type": "markdown",
      "source": [
        "##2.5 Desde el cliente copiar la clave pública al servidor\n",
        "\n",
        "El comando para enviar desde el cliente la clave pública al servidor es el siguiente:\n",
        "```\n",
        " ssh-copy-id username@IP_servidor\n",
        "```\n",
        "\n",
        "Si el comando anterior no funciona, debe copiarse la clave manualmente. Siga los siguientes pasos:\n",
        "\n",
        "- Paso 1: El el Servidor, ingrese a la sesión del usuario\n",
        "- Paso 2: Varificar en la carpeta de home del usuario, que la carpeta .ssh existe. Si no existe, debe crearla y debe quedar con los siguientes privilegios:\n",
        "```\n",
        " drwx------      .ssh\n",
        "```\n",
        "- Paso 3: Verifique dentro de la carpeta .ssh que el archivo authorized_keys existe. Si no existe, debe crearlo y debe quedar con los siguientes privilegios:\n",
        "```\n",
        " -rw-------      authorized_keys\n",
        "```\n",
        "- Paso 4: Copie manualmente la llave pública creada en el Cliente, al archivo *authorized_keys* en el servidor.\n",
        "\n",
        "\n"
      ],
      "metadata": {
        "id": "srrjqBaj4dtn"
      }
    },
    {
      "cell_type": "markdown",
      "source": [
        "#3.UFW\n",
        "La configuración del servicio UFW (*Uncomplicated FireWall*) es la siguiente:\n",
        "\n",
        "##3.1. Configurar las políticas por defecto\n",
        "```\n",
        "sudo ufw default deny incoming​\n",
        "sudo ufw default allow outgoing​\n",
        "```\n",
        "\n",
        "##3.2. Habilitar servicios\n",
        "\n",
        "El mapeo de servicios a números de puertos se encuentra en el archivo:\n",
        "```\n",
        "/etc/services\n",
        "```\n",
        "Para agregar un servicio puede hacerse por el nombre de servicio o por número de puerto:\n",
        "```\n",
        "sudo ufw allow servicio​\n",
        "sudo ufw allow numero_puerto​\n",
        "```\n",
        "\n",
        "##3.3. Controlar UFW​\n",
        "Para controlar el servicio UFW se emplean los siguientes comandos:\n",
        "```\n",
        "sudo ufw enable​\n",
        "sudo ufw status verbose​\n",
        "sudo ufw disable​\n",
        "sudo ufw status numbered\n",
        "```"
      ],
      "metadata": {
        "id": "wodGVjz4Mwxt"
      }
    }
  ]
}